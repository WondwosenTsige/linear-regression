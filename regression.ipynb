{
 "cells": [
  {
   "cell_type": "markdown",
   "source": [
    "# linear regression"
   ],
   "metadata": {}
  },
  {
   "cell_type": "code",
   "execution_count": 142,
   "source": [
    "import pandas as pd\n",
    "import matplotlib.pyplot as plt\n",
    "from sklearn.linear_model import LinearRegression\n",
    "from sklearn.model_selection import train_test_split"
   ],
   "outputs": [],
   "metadata": {}
  },
  {
   "cell_type": "code",
   "execution_count": 143,
   "source": [
    "df = pd.read_csv(\"Tech_sector_diversity_demographics_2016.csv\")\n",
    "df.head()"
   ],
   "outputs": [
    {
     "output_type": "execute_result",
     "data": {
      "text/plain": [
       "  job_category             race_ethnicity  gender   count  percentage\n",
       "0  All workers                      White    Male  268883   41.257252\n",
       "1  All workers                      White  Female  105560   16.197065\n",
       "2  All workers  Black_or_African American    Male   17508    2.686417\n",
       "3  All workers  Black_or_African American  Female   11479    1.761331\n",
       "4  All workers                      Asian    Male  125347   19.233171"
      ],
      "text/html": [
       "<div>\n",
       "<style scoped>\n",
       "    .dataframe tbody tr th:only-of-type {\n",
       "        vertical-align: middle;\n",
       "    }\n",
       "\n",
       "    .dataframe tbody tr th {\n",
       "        vertical-align: top;\n",
       "    }\n",
       "\n",
       "    .dataframe thead th {\n",
       "        text-align: right;\n",
       "    }\n",
       "</style>\n",
       "<table border=\"1\" class=\"dataframe\">\n",
       "  <thead>\n",
       "    <tr style=\"text-align: right;\">\n",
       "      <th></th>\n",
       "      <th>job_category</th>\n",
       "      <th>race_ethnicity</th>\n",
       "      <th>gender</th>\n",
       "      <th>count</th>\n",
       "      <th>percentage</th>\n",
       "    </tr>\n",
       "  </thead>\n",
       "  <tbody>\n",
       "    <tr>\n",
       "      <th>0</th>\n",
       "      <td>All workers</td>\n",
       "      <td>White</td>\n",
       "      <td>Male</td>\n",
       "      <td>268883</td>\n",
       "      <td>41.257252</td>\n",
       "    </tr>\n",
       "    <tr>\n",
       "      <th>1</th>\n",
       "      <td>All workers</td>\n",
       "      <td>White</td>\n",
       "      <td>Female</td>\n",
       "      <td>105560</td>\n",
       "      <td>16.197065</td>\n",
       "    </tr>\n",
       "    <tr>\n",
       "      <th>2</th>\n",
       "      <td>All workers</td>\n",
       "      <td>Black_or_African American</td>\n",
       "      <td>Male</td>\n",
       "      <td>17508</td>\n",
       "      <td>2.686417</td>\n",
       "    </tr>\n",
       "    <tr>\n",
       "      <th>3</th>\n",
       "      <td>All workers</td>\n",
       "      <td>Black_or_African American</td>\n",
       "      <td>Female</td>\n",
       "      <td>11479</td>\n",
       "      <td>1.761331</td>\n",
       "    </tr>\n",
       "    <tr>\n",
       "      <th>4</th>\n",
       "      <td>All workers</td>\n",
       "      <td>Asian</td>\n",
       "      <td>Male</td>\n",
       "      <td>125347</td>\n",
       "      <td>19.233171</td>\n",
       "    </tr>\n",
       "  </tbody>\n",
       "</table>\n",
       "</div>"
      ]
     },
     "metadata": {},
     "execution_count": 143
    }
   ],
   "metadata": {}
  },
  {
   "cell_type": "code",
   "execution_count": 144,
   "source": [
    "#Percentage of Male and Female African Americans in by job categories in tech\n",
    "X = df[df[\"race_ethnicity\"] == \"Black_or_African American\"][[\"job_category\",\"gender\",\"percentage\"]].values\n",
    "y = df[\"percentage\"].values"
   ],
   "outputs": [],
   "metadata": {}
  },
  {
   "cell_type": "code",
   "execution_count": 145,
   "source": [
    "X"
   ],
   "outputs": [
    {
     "output_type": "execute_result",
     "data": {
      "text/plain": [
       "array([['All workers', 'Male', 2.686417389],\n",
       "       ['All workers', 'Female', 1.761331118],\n",
       "       ['Executives', 'Male', 0.966962127],\n",
       "       ['Executives', 'Female', 0.42707494],\n",
       "       ['Managers', 'Male', 1.515282708],\n",
       "       ['Managers', 'Female', 0.940918406],\n",
       "       ['Professionals', 'Male', 1.827309004],\n",
       "       ['Professionals', 'Female', 1.089251328]], dtype=object)"
      ]
     },
     "metadata": {},
     "execution_count": 145
    }
   ],
   "metadata": {}
  },
  {
   "cell_type": "code",
   "execution_count": 146,
   "source": [
    "#Percentage of Female African Americans in by job categories in tech\n",
    "X = df[df[\"race_ethnicity\"] == \"Black_or_African American\"][[\"job_category\",\"gender\",\"percentage\"]].set_index([\"gender\"]).loc[\"Female\"].values\n",
    "#[df[\"gender\"] == \"Female\"]\n",
    "#X = df[[df[\"race_ethnicity\"] == \"Black_or_African American\"],[df[\"gender\"] == \"Female\"]][[\"job_category\",\"race_ethnicity\",\"gender\",\"percentage\"]].values\n",
    "#X = df[df[\"race_ethnicity\"] == \"Black_or_African American\"][[\"job_category\",\"race_ethnicity\",\"gender\",\"percentage\"]].values\n",
    "y = df[\"percentage\"].values"
   ],
   "outputs": [],
   "metadata": {}
  },
  {
   "cell_type": "code",
   "execution_count": 147,
   "source": [
    "X"
   ],
   "outputs": [
    {
     "output_type": "execute_result",
     "data": {
      "text/plain": [
       "array([['All workers', 1.761331118],\n",
       "       ['Executives', 0.42707494],\n",
       "       ['Managers', 0.940918406],\n",
       "       ['Professionals', 1.089251328]], dtype=object)"
      ]
     },
     "metadata": {},
     "execution_count": 147
    }
   ],
   "metadata": {}
  },
  {
   "cell_type": "code",
   "execution_count": 149,
   "source": [
    "#Percentage of Male African Americans in by job categories in tech\n",
    "X = df[df[\"race_ethnicity\"] == \"Black_or_African American\"][[\"job_category\",\"gender\",\"percentage\"]].set_index([\"gender\"]).loc[\"Male\"].values\n",
    "y = df[\"percentage\"].values"
   ],
   "outputs": [],
   "metadata": {}
  },
  {
   "cell_type": "code",
   "execution_count": 150,
   "source": [
    "X"
   ],
   "outputs": [
    {
     "output_type": "execute_result",
     "data": {
      "text/plain": [
       "array([['All workers', 2.686417389],\n",
       "       ['Executives', 0.966962127],\n",
       "       ['Managers', 1.515282708],\n",
       "       ['Professionals', 1.827309004]], dtype=object)"
      ]
     },
     "metadata": {},
     "execution_count": 150
    }
   ],
   "metadata": {}
  },
  {
   "cell_type": "code",
   "execution_count": 159,
   "source": [
    "#Percentage of Male and Female African Americans in by job categories in tech(how to add)\n",
    "X = df[df[\"race_ethnicity\"] == \"Black_or_African American\"][[\"job_category\",\"gender\",\"percentage\"]].set_index([\"gender\"]).loc[\"Female\"].values + df[df[\"race_ethnicity\"] == \"Black_or_African American\"][[\"job_category\",\"gender\",\"percentage\"]].set_index([\"gender\"]).loc[\"Male\"].values\n",
    "#[df[\"gender\"] == \"Female\"]\n",
    "#X = df[[df[\"race_ethnicity\"] == \"Black_or_African American\"],[df[\"gender\"] == \"Female\"]][[\"job_category\",\"race_ethnicity\",\"gender\",\"percentage\"]].values\n",
    "#X = df[df[\"race_ethnicity\"] == \"Black_or_African American\"][[\"job_category\",\"race_ethnicity\",\"gender\",\"percentage\"]].values\n",
    "y = df[\"percentage\"].values"
   ],
   "outputs": [
    {
     "output_type": "error",
     "ename": "SyntaxError",
     "evalue": "cannot assign to operator (2517191546.py, line 2)",
     "traceback": [
      "\u001b[0;36m  File \u001b[0;32m\"/tmp/ipykernel_4439/2517191546.py\"\u001b[0;36m, line \u001b[0;32m2\u001b[0m\n\u001b[0;31m    X = df[df[\"race_ethnicity\"] == \"Black_or_African American\"][[\"job_category\",\"gender\",\"percentage\"]].set_index([\"gender\"]).loc[\"Female\"].values + X = df[df[\"race_ethnicity\"] == \"Black_or_African American\"][[\"job_category\",\"gender\",\"percentage\"]].set_index([\"gender\"]).loc[\"Male\"].values\u001b[0m\n\u001b[0m        ^\u001b[0m\n\u001b[0;31mSyntaxError\u001b[0m\u001b[0;31m:\u001b[0m cannot assign to operator\n"
     ]
    }
   ],
   "metadata": {}
  },
  {
   "cell_type": "code",
   "execution_count": 158,
   "source": [
    "X"
   ],
   "outputs": [
    {
     "output_type": "execute_result",
     "data": {
      "text/plain": [
       "array([['All workers', 'Male', 2.686417389],\n",
       "       ['All workers', 'Female', 1.761331118],\n",
       "       ['Executives', 'Male', 0.966962127],\n",
       "       ['Executives', 'Female', 0.42707494],\n",
       "       ['Managers', 'Male', 1.515282708],\n",
       "       ['Managers', 'Female', 0.940918406],\n",
       "       ['Professionals', 'Male', 1.827309004],\n",
       "       ['Professionals', 'Female', 1.089251328]], dtype=object)"
      ]
     },
     "metadata": {},
     "execution_count": 158
    }
   ],
   "metadata": {}
  }
 ],
 "metadata": {
  "orig_nbformat": 4,
  "language_info": {
   "name": "python"
  }
 },
 "nbformat": 4,
 "nbformat_minor": 2
}